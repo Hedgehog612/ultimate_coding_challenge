{
 "cells": [
  {
   "cell_type": "code",
   "execution_count": null,
   "metadata": {},
   "outputs": [],
   "source": [
    "#The goal: 'encourage driver partners to be available in both cities by reimbursing all toll costs.'\n",
    "#Possible metrics: Number of drivers operating in Gotham & Metropolis per week\n",
    "#Number of tolls reimbursed for driver partners\n",
    "#Total driver activity in Gotham & Metropolis"
   ]
  },
  {
   "cell_type": "code",
   "execution_count": null,
   "metadata": {},
   "outputs": [],
   "source": [
    "#Number of tolls reimbursed and number of drivers operating in both cities are good metrics\n",
    "#of experiment participation, but they don't tell us if this is actually improving efficiency.\n",
    "#Total activity could be affected by a large number of factors, and may be cumbersome to use\n",
    "#to assess this experiment."
   ]
  },
  {
   "cell_type": "code",
   "execution_count": 2,
   "metadata": {},
   "outputs": [],
   "source": [
    "#The key measure of success will be\n",
    "#(daily revenue of city-swapping drivers - daily revenue of one-city drivers - daily toll reimbursement)\n",
    "\n",
    "#Once the experiment starts, track the profits of all drivers \n",
    "#and if they cross between cities each day.\n",
    "#Drivers who do not cross between cities will be our one-city drivers.\n",
    "\n",
    "#It's important that we track data during the experiment only, to avoid contaimination from other\n",
    "#factors (i.e. a major festival in Metropolis the week before the experiment disrupts the dataset)\n",
    "\n",
    "#We'll be evaluating mean and standard deviation of profits among the baseline and high-travel groups.\n",
    "\n",
    "#If drivers who cross between cities more often do increase their profits above the baseline\n",
    "#by a statistically significant amount, then the added costs of the toll reimbursement are offset by\n",
    "#the gains in ease of employee movement.\n",
    "\n",
    "#Note that even a negative return on investment could be valuable if it provides increased\n",
    "#client/employee satisfaction & engagement. \n",
    "\n",
    "#User/employee reviews, user/employee acquisition & retention, total customers served & distance\n",
    "#traveled should all be tracked to monitor this."
   ]
  },
  {
   "cell_type": "code",
   "execution_count": null,
   "metadata": {},
   "outputs": [],
   "source": [
    "#Given the differing circadian rhythms of the cities, we expect the greatest gains to be on the\n",
    "#weekdays, when there will be idle drivers in Gotham during the day and idle drivers in Metropolis\n",
    "#at night. We should pay the most attention to this part of the dataset."
   ]
  },
  {
   "cell_type": "code",
   "execution_count": 3,
   "metadata": {},
   "outputs": [],
   "source": [
    "#If city-swapping drivers can increase their revenue, we'll recommend the operations team\n",
    "#extends the experiment indefinitely. If they can't, but we see improvements among the\n",
    "#mentioned secondary metrics, then we'll report these mixed results, and let them decide\n",
    "#if they want to prioritize profits or satisfaction.\n",
    "#If we see very low engagement with the experiment (nobody wants to swap cities), we may\n",
    "#need to offer stronger/different incentives. There may also be other, hard-to-address\n",
    "#issues with serving Metropolis and Gotham at the same time."
   ]
  }
 ],
 "metadata": {
  "kernelspec": {
   "display_name": "Python 3",
   "language": "python",
   "name": "python3"
  },
  "language_info": {
   "codemirror_mode": {
    "name": "ipython",
    "version": 3
   },
   "file_extension": ".py",
   "mimetype": "text/x-python",
   "name": "python",
   "nbconvert_exporter": "python",
   "pygments_lexer": "ipython3",
   "version": "3.7.4"
  }
 },
 "nbformat": 4,
 "nbformat_minor": 2
}
