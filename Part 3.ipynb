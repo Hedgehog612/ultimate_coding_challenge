{
 "cells": [
  {
   "cell_type": "code",
   "execution_count": 83,
   "metadata": {},
   "outputs": [],
   "source": [
    "import numpy as np\n",
    "import pandas as pd\n",
    "import matplotlib.pyplot as plt\n",
    "import json\n",
    "import datetime as dt\n",
    "import math\n",
    "import statistics\n",
    "import pandas as pd\n",
    "import importlib as il"
   ]
  },
  {
   "cell_type": "code",
   "execution_count": 20,
   "metadata": {},
   "outputs": [],
   "source": [
    "#My personal machine learning functions\n",
    "import randfor_functions as rf"
   ]
  },
  {
   "cell_type": "code",
   "execution_count": 88,
   "metadata": {},
   "outputs": [
    {
     "data": {
      "text/plain": [
       "<module 'randfor_functions' from 'C:\\\\Users\\\\marcu\\\\Dropbox\\\\ultimate_challenge\\\\randfor_functions.py'>"
      ]
     },
     "execution_count": 88,
     "metadata": {},
     "output_type": "execute_result"
    }
   ],
   "source": [
    "il.reload(rf)"
   ]
  },
  {
   "cell_type": "code",
   "execution_count": null,
   "metadata": {},
   "outputs": [],
   "source": []
  },
  {
   "cell_type": "code",
   "execution_count": 47,
   "metadata": {},
   "outputs": [],
   "source": [
    "with open('ultimate_data_challenge.json') as filename:\n",
    "    users = json.load(filename)"
   ]
  },
  {
   "cell_type": "code",
   "execution_count": 48,
   "metadata": {},
   "outputs": [
    {
     "name": "stdout",
     "output_type": "stream",
     "text": [
      "50000\n",
      "dict_keys(['city', 'trips_in_first_30_days', 'signup_date', 'avg_rating_of_driver', 'avg_surge', 'last_trip_date', 'phone', 'surge_pct', 'ultimate_black_user', 'weekday_pct', 'avg_dist', 'avg_rating_by_driver'])\n"
     ]
    }
   ],
   "source": [
    "print(len(users))\n",
    "print(users[0].keys())"
   ]
  },
  {
   "cell_type": "code",
   "execution_count": 49,
   "metadata": {},
   "outputs": [],
   "source": [
    "#50000 users"
   ]
  },
  {
   "cell_type": "code",
   "execution_count": 50,
   "metadata": {},
   "outputs": [],
   "source": [
    "#First: convert to dataframe."
   ]
  },
  {
   "cell_type": "code",
   "execution_count": 51,
   "metadata": {},
   "outputs": [],
   "source": [
    "users = pd.DataFrame(users)"
   ]
  },
  {
   "cell_type": "code",
   "execution_count": 52,
   "metadata": {},
   "outputs": [
    {
     "data": {
      "text/html": [
       "<div>\n",
       "<style scoped>\n",
       "    .dataframe tbody tr th:only-of-type {\n",
       "        vertical-align: middle;\n",
       "    }\n",
       "\n",
       "    .dataframe tbody tr th {\n",
       "        vertical-align: top;\n",
       "    }\n",
       "\n",
       "    .dataframe thead th {\n",
       "        text-align: right;\n",
       "    }\n",
       "</style>\n",
       "<table border=\"1\" class=\"dataframe\">\n",
       "  <thead>\n",
       "    <tr style=\"text-align: right;\">\n",
       "      <th></th>\n",
       "      <th>city</th>\n",
       "      <th>trips_in_first_30_days</th>\n",
       "      <th>signup_date</th>\n",
       "      <th>avg_rating_of_driver</th>\n",
       "      <th>avg_surge</th>\n",
       "      <th>last_trip_date</th>\n",
       "      <th>phone</th>\n",
       "      <th>surge_pct</th>\n",
       "      <th>ultimate_black_user</th>\n",
       "      <th>weekday_pct</th>\n",
       "      <th>avg_dist</th>\n",
       "      <th>avg_rating_by_driver</th>\n",
       "    </tr>\n",
       "  </thead>\n",
       "  <tbody>\n",
       "    <tr>\n",
       "      <td>0</td>\n",
       "      <td>King's Landing</td>\n",
       "      <td>4</td>\n",
       "      <td>2014-01-25</td>\n",
       "      <td>4.7</td>\n",
       "      <td>1.10</td>\n",
       "      <td>2014-06-17</td>\n",
       "      <td>iPhone</td>\n",
       "      <td>15.4</td>\n",
       "      <td>True</td>\n",
       "      <td>46.2</td>\n",
       "      <td>3.67</td>\n",
       "      <td>5.0</td>\n",
       "    </tr>\n",
       "    <tr>\n",
       "      <td>1</td>\n",
       "      <td>Astapor</td>\n",
       "      <td>0</td>\n",
       "      <td>2014-01-29</td>\n",
       "      <td>5.0</td>\n",
       "      <td>1.00</td>\n",
       "      <td>2014-05-05</td>\n",
       "      <td>Android</td>\n",
       "      <td>0.0</td>\n",
       "      <td>False</td>\n",
       "      <td>50.0</td>\n",
       "      <td>8.26</td>\n",
       "      <td>5.0</td>\n",
       "    </tr>\n",
       "    <tr>\n",
       "      <td>2</td>\n",
       "      <td>Astapor</td>\n",
       "      <td>3</td>\n",
       "      <td>2014-01-06</td>\n",
       "      <td>4.3</td>\n",
       "      <td>1.00</td>\n",
       "      <td>2014-01-07</td>\n",
       "      <td>iPhone</td>\n",
       "      <td>0.0</td>\n",
       "      <td>False</td>\n",
       "      <td>100.0</td>\n",
       "      <td>0.77</td>\n",
       "      <td>5.0</td>\n",
       "    </tr>\n",
       "    <tr>\n",
       "      <td>3</td>\n",
       "      <td>King's Landing</td>\n",
       "      <td>9</td>\n",
       "      <td>2014-01-10</td>\n",
       "      <td>4.6</td>\n",
       "      <td>1.14</td>\n",
       "      <td>2014-06-29</td>\n",
       "      <td>iPhone</td>\n",
       "      <td>20.0</td>\n",
       "      <td>True</td>\n",
       "      <td>80.0</td>\n",
       "      <td>2.36</td>\n",
       "      <td>4.9</td>\n",
       "    </tr>\n",
       "    <tr>\n",
       "      <td>4</td>\n",
       "      <td>Winterfell</td>\n",
       "      <td>14</td>\n",
       "      <td>2014-01-27</td>\n",
       "      <td>4.4</td>\n",
       "      <td>1.19</td>\n",
       "      <td>2014-03-15</td>\n",
       "      <td>Android</td>\n",
       "      <td>11.8</td>\n",
       "      <td>False</td>\n",
       "      <td>82.4</td>\n",
       "      <td>3.13</td>\n",
       "      <td>4.9</td>\n",
       "    </tr>\n",
       "  </tbody>\n",
       "</table>\n",
       "</div>"
      ],
      "text/plain": [
       "             city  trips_in_first_30_days signup_date  avg_rating_of_driver  \\\n",
       "0  King's Landing                       4  2014-01-25                   4.7   \n",
       "1         Astapor                       0  2014-01-29                   5.0   \n",
       "2         Astapor                       3  2014-01-06                   4.3   \n",
       "3  King's Landing                       9  2014-01-10                   4.6   \n",
       "4      Winterfell                      14  2014-01-27                   4.4   \n",
       "\n",
       "   avg_surge last_trip_date    phone  surge_pct  ultimate_black_user  \\\n",
       "0       1.10     2014-06-17   iPhone       15.4                 True   \n",
       "1       1.00     2014-05-05  Android        0.0                False   \n",
       "2       1.00     2014-01-07   iPhone        0.0                False   \n",
       "3       1.14     2014-06-29   iPhone       20.0                 True   \n",
       "4       1.19     2014-03-15  Android       11.8                False   \n",
       "\n",
       "   weekday_pct  avg_dist  avg_rating_by_driver  \n",
       "0         46.2      3.67                   5.0  \n",
       "1         50.0      8.26                   5.0  \n",
       "2        100.0      0.77                   5.0  \n",
       "3         80.0      2.36                   4.9  \n",
       "4         82.4      3.13                   4.9  "
      ]
     },
     "execution_count": 52,
     "metadata": {},
     "output_type": "execute_result"
    }
   ],
   "source": [
    "users.head()"
   ]
  },
  {
   "cell_type": "code",
   "execution_count": 53,
   "metadata": {},
   "outputs": [],
   "source": [
    "#Converting string data to categorical"
   ]
  },
  {
   "cell_type": "code",
   "execution_count": 54,
   "metadata": {},
   "outputs": [
    {
     "data": {
      "text/plain": [
       "array([\"King's Landing\", 'Astapor', 'Winterfell'], dtype=object)"
      ]
     },
     "execution_count": 54,
     "metadata": {},
     "output_type": "execute_result"
    }
   ],
   "source": [
    "users.city.unique()"
   ]
  },
  {
   "cell_type": "code",
   "execution_count": 55,
   "metadata": {},
   "outputs": [],
   "source": [
    "users['Kings_Landing'] = [city == \"King's Landing\" for city in users['city']]\n",
    "users['Astapor'] = [city == 'Astapor' for city in users['city']]\n",
    "users['Winterfell'] = [city == 'Winterfell' for city in users['city']]\n",
    "users.drop(axis = 1, labels = 'city', inplace = True)"
   ]
  },
  {
   "cell_type": "code",
   "execution_count": null,
   "metadata": {},
   "outputs": [],
   "source": []
  },
  {
   "cell_type": "code",
   "execution_count": 56,
   "metadata": {
    "scrolled": true
   },
   "outputs": [
    {
     "data": {
      "text/plain": [
       "25"
      ]
     },
     "execution_count": 56,
     "metadata": {},
     "output_type": "execute_result"
    }
   ],
   "source": [
    "#All users signed up in January, so the only relevant part here is the day\n",
    "int(users.signup_date[0][8:])"
   ]
  },
  {
   "cell_type": "code",
   "execution_count": 57,
   "metadata": {},
   "outputs": [],
   "source": [
    "signup_date = []\n",
    "for index, row in users.iterrows():\n",
    "    signup_date.append(int(row.signup_date[8:]))\n",
    "users['signup_date'] = signup_date"
   ]
  },
  {
   "cell_type": "code",
   "execution_count": null,
   "metadata": {},
   "outputs": [],
   "source": []
  },
  {
   "cell_type": "code",
   "execution_count": 58,
   "metadata": {
    "scrolled": true
   },
   "outputs": [
    {
     "data": {
      "text/plain": [
       "array(['iPhone', 'Android', None], dtype=object)"
      ]
     },
     "execution_count": 58,
     "metadata": {},
     "output_type": "execute_result"
    }
   ],
   "source": [
    "users.phone.unique()"
   ]
  },
  {
   "cell_type": "code",
   "execution_count": 59,
   "metadata": {},
   "outputs": [],
   "source": [
    "users.phone.fillna('None', inplace = True)\n",
    "users['iPhone'] = [phone == 'iPhone' for phone in users['phone']]\n",
    "users['Android'] = [phone == 'Android' for phone in users['phone']]\n",
    "users['None'] = [phone == 'None' for phone in users['phone']]\n",
    "users.drop(axis = 1, labels = 'phone', inplace = True)"
   ]
  },
  {
   "cell_type": "code",
   "execution_count": null,
   "metadata": {},
   "outputs": [],
   "source": []
  },
  {
   "cell_type": "code",
   "execution_count": 60,
   "metadata": {},
   "outputs": [
    {
     "data": {
      "text/plain": [
       "'2014-07-01'"
      ]
     },
     "execution_count": 60,
     "metadata": {},
     "output_type": "execute_result"
    }
   ],
   "source": [
    "max(users.last_trip_date)"
   ]
  },
  {
   "cell_type": "code",
   "execution_count": 61,
   "metadata": {},
   "outputs": [],
   "source": [
    "#last trip date: July 01. According to the documentation, a user is active if their last\n",
    "#trip date is at or after June 01. Generating that data."
   ]
  },
  {
   "cell_type": "code",
   "execution_count": 62,
   "metadata": {},
   "outputs": [],
   "source": [
    "active_user = []\n",
    "date_format = '%Y-%m-%d'\n",
    "cutoff_date = dt.datetime.strptime('2014-06-01', date_format)\n",
    "for index, row in users.iterrows():\n",
    "    if dt.datetime.strptime(row.last_trip_date, date_format) >= cutoff_date:\n",
    "        active_user.append(True)\n",
    "    else:\n",
    "        active_user.append(False)\n",
    "users.drop(axis=1, labels = 'last_trip_date', inplace = True)"
   ]
  },
  {
   "cell_type": "code",
   "execution_count": 77,
   "metadata": {},
   "outputs": [
    {
     "name": "stdout",
     "output_type": "stream",
     "text": [
      "percent users retained: 0.37608\n"
     ]
    }
   ],
   "source": [
    "activecount = 0\n",
    "for u in active_user:\n",
    "    if u:\n",
    "        activecount += 1\n",
    "print('percent users retained:', activecount/len(active_user))"
   ]
  },
  {
   "cell_type": "code",
   "execution_count": null,
   "metadata": {},
   "outputs": [],
   "source": [
    "#Retaining just over a third of all January signups."
   ]
  },
  {
   "cell_type": "code",
   "execution_count": null,
   "metadata": {},
   "outputs": [],
   "source": []
  },
  {
   "cell_type": "code",
   "execution_count": null,
   "metadata": {},
   "outputs": [],
   "source": [
    "#Verify data integrity"
   ]
  },
  {
   "cell_type": "code",
   "execution_count": 67,
   "metadata": {},
   "outputs": [
    {
     "name": "stdout",
     "output_type": "stream",
     "text": [
      "avg_rating_of_driver\n",
      "avg_rating_by_driver\n"
     ]
    }
   ],
   "source": [
    "for col in users.columns:\n",
    "    if users[col].hasnans:\n",
    "        print(col)"
   ]
  },
  {
   "cell_type": "code",
   "execution_count": null,
   "metadata": {},
   "outputs": [],
   "source": [
    "#Need to fill in the nans. Filling with mean of dataset.\n",
    "#The rating being zero may be more indicative than I'm giving it credit for, but for now\n",
    "#we'll just run it like this."
   ]
  },
  {
   "cell_type": "code",
   "execution_count": 69,
   "metadata": {},
   "outputs": [],
   "source": [
    "rating_of = np.mean(users.avg_rating_of_driver)\n",
    "rating_by = np.mean(users.avg_rating_by_driver)"
   ]
  },
  {
   "cell_type": "code",
   "execution_count": 70,
   "metadata": {},
   "outputs": [],
   "source": [
    "users.avg_rating_of_driver.fillna(rating_of, inplace = True)\n",
    "users.avg_rating_by_driver.fillna(rating_by, inplace = True)"
   ]
  },
  {
   "cell_type": "code",
   "execution_count": 71,
   "metadata": {},
   "outputs": [],
   "source": [
    "for col in users.columns:\n",
    "    if users[col].hasnans:\n",
    "        print(col)"
   ]
  },
  {
   "cell_type": "code",
   "execution_count": null,
   "metadata": {},
   "outputs": [],
   "source": []
  },
  {
   "cell_type": "code",
   "execution_count": 72,
   "metadata": {},
   "outputs": [],
   "source": [
    "#All set. Let's see what we get."
   ]
  },
  {
   "cell_type": "code",
   "execution_count": 73,
   "metadata": {
    "scrolled": true
   },
   "outputs": [
    {
     "name": "stdout",
     "output_type": "stream",
     "text": [
      "train score: 0.8296266666666666\n",
      "test score: 0.78376\n",
      "f1 score 0.691965811965812\n",
      "confusion_matrix:\n",
      "[[6761 1046]\n",
      " [1657 3036]]\n",
      "precision score: 0.7437530622243999\n",
      "recall score: 0.6469209460899211\n",
      "columns: 15\n",
      "rows: 50000\n",
      "total data: 750000\n",
      "feature importances:\n",
      "avg_rating_by_driver: 0.2973701470218051\n",
      "Kings_Landing: 0.12736731698941833\n",
      "weekday_pct: 0.10986919808273043\n",
      "avg_dist: 0.10726318462085413\n",
      "surge_pct: 0.061713970905838036\n",
      "ultimate_black_user: 0.050311997417447726\n",
      "Android: 0.0475179539164546\n",
      "trips_in_first_30_days: 0.047353862164022854\n",
      "signup_date: 0.04723743577955062\n",
      "avg_rating_of_driver: 0.033589474104200656\n",
      "avg_surge: 0.02996800769083417\n",
      "iPhone: 0.019377347631673487\n",
      "Astapor: 0.01436640280395194\n",
      "Winterfell: 0.005950526459010577\n",
      "None: 0.0007431744122071016\n",
      "elapsed time: 0:01:25.904438\n"
     ]
    }
   ],
   "source": [
    "#Running a random forest machine learning model to classify users as being active or not.\n",
    "rf.randfor_class_talk(users, active_user, 1000, 20, None, 50)"
   ]
  },
  {
   "cell_type": "code",
   "execution_count": null,
   "metadata": {},
   "outputs": [],
   "source": []
  },
  {
   "cell_type": "code",
   "execution_count": null,
   "metadata": {},
   "outputs": [],
   "source": [
    "#Takeaways of the first model:\n",
    "#Slight overfit, may want to reduce depth/increase min sample size\n",
    "#Some columns are not very relevant, such as if they had an iphone, signup date\n",
    "#Some of this data is correlated: Surge pct vs avg surge, iphone vs android, etc"
   ]
  },
  {
   "cell_type": "code",
   "execution_count": null,
   "metadata": {},
   "outputs": [],
   "source": [
    "#Rerunning with some adjustments, trying to remove correlation"
   ]
  },
  {
   "cell_type": "code",
   "execution_count": 78,
   "metadata": {},
   "outputs": [],
   "source": [
    "small_dataset = users[['avg_rating_by_driver', 'Kings_Landing', 'weekday_pct', 'avg_dist', 'surge_pct',\\\n",
    "                      'ultimate_black_user', 'trips_in_first_30_days', 'avg_rating_of_driver']]"
   ]
  },
  {
   "cell_type": "code",
   "execution_count": 79,
   "metadata": {},
   "outputs": [
    {
     "name": "stdout",
     "output_type": "stream",
     "text": [
      "train score: 0.7825333333333333\n",
      "test score: 0.77384\n",
      "f1 score 0.6789324247586598\n",
      "confusion_matrix:\n",
      "[[6684 1165]\n",
      " [1662 2989]]\n",
      "precision score: 0.7195474241694753\n",
      "recall score: 0.6426574930122554\n",
      "columns: 8\n",
      "rows: 50000\n",
      "total data: 400000\n",
      "feature importances:\n",
      "avg_rating_by_driver: 0.39577149047637555\n",
      "Kings_Landing: 0.1816751226701275\n",
      "surge_pct: 0.12042329109409487\n",
      "weekday_pct: 0.11281691711245904\n",
      "ultimate_black_user: 0.06611835054936459\n",
      "avg_dist: 0.06061025278729491\n",
      "trips_in_first_30_days: 0.043623808965990385\n",
      "avg_rating_of_driver: 0.01896076634429312\n",
      "elapsed time: 0:04:32.049441\n"
     ]
    }
   ],
   "source": [
    "rf.randfor_class_talk(small_dataset, active_user, 5000, 15, None, 200)"
   ]
  },
  {
   "cell_type": "code",
   "execution_count": 80,
   "metadata": {},
   "outputs": [],
   "source": [
    "#Significant improvement over previous model. Most relevant predictor of being active is far\n",
    "#and away average rating by driver, which makes sense - that's probably the closest we're getting\n",
    "#to an employee satisfaction metric. After that, the geographical column, surge_pct, weekday_pct.\n",
    "#Currently classifying 77% correctly. Almost no overfit.\n",
    "#Precision better than recall: Most of the people we predict will stay stay, but we don't predict\n",
    "#everyone who will stay.\n",
    "#Removing rating_of, at <.02 importance, to save time."
   ]
  },
  {
   "cell_type": "code",
   "execution_count": null,
   "metadata": {},
   "outputs": [],
   "source": [
    "#Next: calculate optimum depth."
   ]
  },
  {
   "cell_type": "code",
   "execution_count": 81,
   "metadata": {},
   "outputs": [],
   "source": [
    "small_dataset = users[['avg_rating_by_driver', 'Kings_Landing', 'weekday_pct', 'avg_dist', 'surge_pct',\\\n",
    "                      'ultimate_black_user', 'trips_in_first_30_days']]"
   ]
  },
  {
   "cell_type": "code",
   "execution_count": 89,
   "metadata": {},
   "outputs": [
    {
     "name": "stdout",
     "output_type": "stream",
     "text": [
      "done with test  0\n",
      "done with test  1\n",
      "done with test  2\n",
      "done with test  3\n",
      "done with test  4\n",
      "done with test  5\n",
      "done with test  6\n",
      "done with test  7\n",
      "done with test  8\n",
      "done with test  9\n",
      "done with test  10\n",
      "done with test  11\n",
      "done with test  12\n",
      "done with test  13\n",
      "done with test  14\n",
      "done with test  15\n",
      "done with test  16\n",
      "done with test  17\n",
      "done with test  18\n",
      "done with test  19\n"
     ]
    }
   ],
   "source": [
    "train_list, test_list, f_list = rf.rand_find_depth(1000, small_dataset, active_user, 20, 200)"
   ]
  },
  {
   "cell_type": "code",
   "execution_count": 93,
   "metadata": {},
   "outputs": [
    {
     "data": {
      "text/plain": [
       "Text(0, 0.5, 'Model score')"
      ]
     },
     "execution_count": 93,
     "metadata": {},
     "output_type": "execute_result"
    },
    {
     "data": {
      "image/png": "[encoded data removed]",
      "text/plain": [
       "<Figure size 432x288 with 1 Axes>"
      ]
     },
     "metadata": {
      "needs_background": "light"
     },
     "output_type": "display_data"
    }
   ],
   "source": [
    "plt.plot(range(20), train_list, ls = '--')\n",
    "plt.plot(range(20), test_list, c = 'black')\n",
    "plt.xlabel('Max depth')\n",
    "plt.ylabel('Model score')"
   ]
  },
  {
   "cell_type": "code",
   "execution_count": null,
   "metadata": {},
   "outputs": [],
   "source": [
    "#We start to see overfit at around max depth 4. We see accuracy begin to fall off at around\n",
    "#the same depth. I don't see signifcant benefit to max depth higher than 10.\n",
    "#Arguably, we could go lower, but this isn't too computationally expensive."
   ]
  },
  {
   "cell_type": "code",
   "execution_count": null,
   "metadata": {},
   "outputs": [],
   "source": []
  },
  {
   "cell_type": "code",
   "execution_count": 94,
   "metadata": {},
   "outputs": [],
   "source": [
    "#I've chosen to use a random forest model because it's a straightforward machine learning\n",
    "#model that performs well with most datasets. Naive Bayes is another option, and if we\n",
    "#wanted to get especially serious we could try something like a neural network, but\n",
    "#for a dataset this size, this should work fine."
   ]
  },
  {
   "cell_type": "code",
   "execution_count": null,
   "metadata": {},
   "outputs": [],
   "source": []
  },
  {
   "cell_type": "code",
   "execution_count": null,
   "metadata": {},
   "outputs": [],
   "source": [
    "#This indicates that long-term rider retention is most heavily influenced by how the riders\n",
    "#rate their trips. Improving that metric might involve improved employee training and support\n",
    "#Better routing to take traffic and roadwork into account, or other metrics.\n",
    "#It also appears that the rider being located in Kings Landing is predictive - this city is\n",
    "#doing something different than Astapor and Winterfell. We should examine this data specifically\n",
    "#and see if we can determine what that is.\n",
    "#After that, surge and weekday use are slightly predictive. We may wish to incentivize surge use\n",
    "#or set up notifications to play at specific times. "
   ]
  },
  {
   "cell_type": "code",
   "execution_count": null,
   "metadata": {},
   "outputs": [],
   "source": []
  }
 ],
 "metadata": {
  "kernelspec": {
   "display_name": "Python 3",
   "language": "python",
   "name": "python3"
  },
  "language_info": {
   "codemirror_mode": {
    "name": "ipython",
    "version": 3
   },
   "file_extension": ".py",
   "mimetype": "text/x-python",
   "name": "python",
   "nbconvert_exporter": "python",
   "pygments_lexer": "ipython3",
   "version": "3.7.4"
  }
 },
 "nbformat": 4,
 "nbformat_minor": 2
}
