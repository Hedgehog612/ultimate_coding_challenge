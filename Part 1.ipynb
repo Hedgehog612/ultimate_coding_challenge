{
 "cells": [
  {
   "cell_type": "code",
   "execution_count": 1,
   "metadata": {},
   "outputs": [],
   "source": [
    "import numpy as np\n",
    "import pandas as pd\n",
    "import matplotlib.pyplot as plt\n",
    "import json\n",
    "import datetime as dt\n",
    "import math\n",
    "import statistics"
   ]
  },
  {
   "cell_type": "code",
   "execution_count": null,
   "metadata": {},
   "outputs": [],
   "source": []
  },
  {
   "cell_type": "code",
   "execution_count": 2,
   "metadata": {},
   "outputs": [],
   "source": [
    "with open('logins.json') as filename:\n",
    "    logins = json.load(filename)"
   ]
  },
  {
   "cell_type": "code",
   "execution_count": 3,
   "metadata": {
    "scrolled": true
   },
   "outputs": [
    {
     "data": {
      "text/plain": [
       "dict_keys(['login_time'])"
      ]
     },
     "execution_count": 3,
     "metadata": {},
     "output_type": "execute_result"
    }
   ],
   "source": [
    "logins.keys()"
   ]
  },
  {
   "cell_type": "code",
   "execution_count": 4,
   "metadata": {},
   "outputs": [],
   "source": [
    "#only contains timestamps"
   ]
  },
  {
   "cell_type": "code",
   "execution_count": 5,
   "metadata": {},
   "outputs": [],
   "source": [
    "log_time = logins['login_time']"
   ]
  },
  {
   "cell_type": "code",
   "execution_count": 6,
   "metadata": {
    "scrolled": true
   },
   "outputs": [
    {
     "name": "stdout",
     "output_type": "stream",
     "text": [
      "93142\n",
      "1970-04-13 18:57:38\n",
      "1970-01-01 20:12:16\n"
     ]
    }
   ],
   "source": [
    "print(len(log_time))\n",
    "print(max(log_time))\n",
    "print(min(log_time))"
   ]
  },
  {
   "cell_type": "code",
   "execution_count": 7,
   "metadata": {},
   "outputs": [],
   "source": [
    "#dataset contains 93 thousand logins between new years 1970 and 4/13/1970."
   ]
  },
  {
   "cell_type": "code",
   "execution_count": null,
   "metadata": {},
   "outputs": [],
   "source": []
  },
  {
   "cell_type": "code",
   "execution_count": 8,
   "metadata": {},
   "outputs": [],
   "source": [
    "#First: Group into 15-minute intervals"
   ]
  },
  {
   "cell_type": "code",
   "execution_count": 9,
   "metadata": {},
   "outputs": [],
   "source": [
    "#key variables\n",
    "login_format = '%Y-%m-%d %H:%M:%S'\n",
    "zero_time = dt.datetime.strptime('1970-01-01 00:01:01', login_format)\n",
    "fifteen_minutes = dt.timedelta(seconds = (60*15))"
   ]
  },
  {
   "cell_type": "code",
   "execution_count": 10,
   "metadata": {},
   "outputs": [],
   "source": [
    "#Create dictionary of results, more efficient than a list\n",
    "def minute_agg(times):\n",
    "    login_agg = {}\n",
    "    for time in times:\n",
    "        time_object = dt.datetime.strptime(time, login_format)\n",
    "        #timedelta starts seconds\n",
    "        time_difference = time_object - zero_time\n",
    "        time_minutes = math.floor(time_difference/fifteen_minutes)\n",
    "        if time_minutes not in login_agg:\n",
    "            login_agg[time_minutes] = 1\n",
    "        else:\n",
    "            login_agg[time_minutes] += 1\n",
    "    return login_agg"
   ]
  },
  {
   "cell_type": "code",
   "execution_count": null,
   "metadata": {},
   "outputs": [],
   "source": []
  },
  {
   "cell_type": "code",
   "execution_count": 11,
   "metadata": {},
   "outputs": [],
   "source": [
    "#Test with toy sequence"
   ]
  },
  {
   "cell_type": "code",
   "execution_count": 12,
   "metadata": {},
   "outputs": [],
   "source": [
    "a = '1970-01-01 00:05:01'\n",
    "b = '1970-01-01 00:10:01'\n",
    "c = '1970-01-01 00:15:01'\n",
    "d = '1970-01-01 00:20:01'\n",
    "e = '1970-01-01 00:25:01'\n",
    "f = '1970-01-01 00:30:01'\n",
    "g = '1970-01-01 00:35:01'\n",
    "test = [a, b, c, d, e, f, g]"
   ]
  },
  {
   "cell_type": "code",
   "execution_count": 13,
   "metadata": {},
   "outputs": [],
   "source": [
    "result = minute_agg(test)"
   ]
  },
  {
   "cell_type": "code",
   "execution_count": 14,
   "metadata": {
    "scrolled": true
   },
   "outputs": [
    {
     "data": {
      "text/plain": [
       "{0: 3, 1: 3, 2: 1}"
      ]
     },
     "execution_count": 14,
     "metadata": {},
     "output_type": "execute_result"
    }
   ],
   "source": [
    "result"
   ]
  },
  {
   "cell_type": "code",
   "execution_count": null,
   "metadata": {},
   "outputs": [],
   "source": []
  },
  {
   "cell_type": "code",
   "execution_count": 15,
   "metadata": {},
   "outputs": [
    {
     "name": "stdout",
     "output_type": "stream",
     "text": [
      "data prepared in 0:00:01.632474\n"
     ]
    }
   ],
   "source": [
    "#Run on full dataset and monitor time taken\n",
    "#We may need to find something more efficient if this runs long\n",
    "starttime = dt.datetime.now()\n",
    "login_fifteen = minute_agg(log_time)\n",
    "print('data prepared in', dt.datetime.now()-starttime)"
   ]
  },
  {
   "cell_type": "code",
   "execution_count": 16,
   "metadata": {},
   "outputs": [],
   "source": [
    "#Workable for multiple orders of magnitude more data. Good. Data cleaning workable for now,\n",
    "#let's look at the data."
   ]
  },
  {
   "cell_type": "code",
   "execution_count": 17,
   "metadata": {
    "scrolled": false
   },
   "outputs": [
    {
     "data": {
      "text/plain": [
       "<BarContainer object of 9388 artists>"
      ]
     },
     "execution_count": 17,
     "metadata": {},
     "output_type": "execute_result"
    },
    {
     "data": {
      "image/png": "[encoded data removed]",
      "text/plain": [
       "<Figure size 432x288 with 1 Axes>"
      ]
     },
     "metadata": {
      "needs_background": "light"
     },
     "output_type": "display_data"
    }
   ],
   "source": [
    "plt.bar(login_fifteen.keys(), login_fifteen.values())"
   ]
  },
  {
   "cell_type": "code",
   "execution_count": 18,
   "metadata": {},
   "outputs": [
    {
     "data": {
      "text/plain": [
       "9.92138900724329"
      ]
     },
     "execution_count": 18,
     "metadata": {},
     "output_type": "execute_result"
    }
   ],
   "source": [
    "statistics.mean(login_fifteen[l] for l in login_fifteen)"
   ]
  },
  {
   "cell_type": "code",
   "execution_count": 19,
   "metadata": {},
   "outputs": [],
   "source": [
    "#Basic view is too low-resolution. We can see that average demand is 9, but we need to zoom in."
   ]
  },
  {
   "cell_type": "code",
   "execution_count": null,
   "metadata": {},
   "outputs": [],
   "source": []
  },
  {
   "cell_type": "code",
   "execution_count": 20,
   "metadata": {
    "scrolled": true
   },
   "outputs": [
    {
     "data": {
      "text/plain": [
       "Text(0, 0.5, 'logins')"
      ]
     },
     "execution_count": 20,
     "metadata": {},
     "output_type": "execute_result"
    },
    {
     "data": {
      "image/png": "[encoded data removed]",
      "text/plain": [
       "<Figure size 432x288 with 1 Axes>"
      ]
     },
     "metadata": {
      "needs_background": "light"
     },
     "output_type": "display_data"
    }
   ],
   "source": [
    "plot = plt.bar(login_fifteen.keys(), login_fifteen.values())\n",
    "plt.xlim(0, 1000)\n",
    "#Add reference lines every 24 hours = add them every 96 intervals\n",
    "for x in range(math.floor(1000/(96))):\n",
    "    plt.axvline((x+1)*96, c = 'black', ls='--')\n",
    "plt.xlabel('fifteen minutes since new year')\n",
    "plt.ylabel('logins')"
   ]
  },
  {
   "cell_type": "code",
   "execution_count": 21,
   "metadata": {},
   "outputs": [
    {
     "data": {
      "text/plain": [
       "Text(0, 0.5, 'logins')"
      ]
     },
     "execution_count": 21,
     "metadata": {},
     "output_type": "execute_result"
    },
    {
     "data": {
      "image/png": "[encoded data removed]",
      "text/plain": [
       "<Figure size 432x288 with 1 Axes>"
      ]
     },
     "metadata": {
      "needs_background": "light"
     },
     "output_type": "display_data"
    }
   ],
   "source": [
    "plot = plt.bar(login_fifteen.keys(), login_fifteen.values())\n",
    "plt.xlim(1000, 2000)\n",
    "#Add reference lines every 24 hours = add them every 96 intervals\n",
    "for x in range(math.floor(2000/(96))):\n",
    "    plt.axvline((x+1)*96, c = 'black', ls='--')\n",
    "plt.xlabel('fifteen minutes since new year')\n",
    "plt.ylabel('logins')"
   ]
  },
  {
   "cell_type": "code",
   "execution_count": 22,
   "metadata": {},
   "outputs": [],
   "source": [
    "#Looks like we see spikes around midday and in the evenings. Let's refine this.\n",
    "#First, verify data is clean."
   ]
  },
  {
   "cell_type": "code",
   "execution_count": 23,
   "metadata": {
    "scrolled": true
   },
   "outputs": [
    {
     "data": {
      "text/plain": [
       "'1970-01-01 20:13:18'"
      ]
     },
     "execution_count": 23,
     "metadata": {},
     "output_type": "execute_result"
    }
   ],
   "source": [
    "log_time[0]"
   ]
  },
  {
   "cell_type": "code",
   "execution_count": 24,
   "metadata": {},
   "outputs": [],
   "source": [
    "#0:4 gives the year, 5:7 the month, 8:10 the day. \n",
    "#11:13 gives us the hour, 14:16 the minute, 17:19 the second\n",
    "years = []\n",
    "months = []\n",
    "days = []\n",
    "hours = []\n",
    "minutes = []\n",
    "seconds = []\n",
    "for time in log_time:\n",
    "    years.append(int(time[0:4]))\n",
    "    months.append(int(time[5:7]))\n",
    "    days.append(int(time[8:10]))\n",
    "    hours.append(int(time[11:13]))\n",
    "    minutes.append(int(time[14:16]))\n",
    "    seconds.append(int(time[17:19]))"
   ]
  },
  {
   "cell_type": "code",
   "execution_count": 25,
   "metadata": {},
   "outputs": [],
   "source": [
    "for y in years:\n",
    "    assert y == 1970\n",
    "for h in hours:\n",
    "    assert h < 24\n",
    "    assert h >= 0\n",
    "for m in minutes:\n",
    "    assert m < 60\n",
    "    assert m >= 0\n",
    "for s in seconds:\n",
    "    assert s < 60\n",
    "    assert s >= 0"
   ]
  },
  {
   "cell_type": "code",
   "execution_count": 26,
   "metadata": {},
   "outputs": [],
   "source": [
    "#not a leap year\n",
    "for m, d in zip(months, days):\n",
    "    assert m in [1, 2, 3, 4]\n",
    "    assert d > 0\n",
    "    if m == 4:\n",
    "        assert d <= 30\n",
    "    elif m == 2:\n",
    "        assert d <= 28\n",
    "    else:\n",
    "        assert d <= 31"
   ]
  },
  {
   "cell_type": "code",
   "execution_count": 27,
   "metadata": {},
   "outputs": [],
   "source": [
    "#No entry errors observed. Dates check out."
   ]
  },
  {
   "cell_type": "code",
   "execution_count": null,
   "metadata": {},
   "outputs": [],
   "source": []
  },
  {
   "cell_type": "code",
   "execution_count": 28,
   "metadata": {},
   "outputs": [],
   "source": [
    "fifteen_average = {}\n",
    "for x in range(96):\n",
    "    fifteen_average[x] = []"
   ]
  },
  {
   "cell_type": "code",
   "execution_count": 29,
   "metadata": {
    "scrolled": true
   },
   "outputs": [],
   "source": [
    "for x in range(len(login_fifteen)):\n",
    "    if x in login_fifteen:\n",
    "        fifteen_average[x%96].append(login_fifteen[x])"
   ]
  },
  {
   "cell_type": "code",
   "execution_count": 30,
   "metadata": {},
   "outputs": [],
   "source": [
    "fifteen_data = {}\n",
    "for x in range(96):\n",
    "    fifteen_data[x/4] = np.mean(fifteen_average[x])"
   ]
  },
  {
   "cell_type": "code",
   "execution_count": 31,
   "metadata": {},
   "outputs": [
    {
     "data": {
      "text/plain": [
       "Text(0, 0.5, 'average logins')"
      ]
     },
     "execution_count": 31,
     "metadata": {},
     "output_type": "execute_result"
    },
    {
     "data": {
      "image/png": "[encoded data removed]",
      "text/plain": [
       "<Figure size 432x288 with 1 Axes>"
      ]
     },
     "metadata": {
      "needs_background": "light"
     },
     "output_type": "display_data"
    }
   ],
   "source": [
    "plt.bar(fifteen_data.keys(), fifteen_data.values())\n",
    "plt.xlabel('hour')\n",
    "plt.ylabel('average logins')"
   ]
  },
  {
   "cell_type": "code",
   "execution_count": 32,
   "metadata": {},
   "outputs": [],
   "source": [
    "#Demand hits a short peak around 11, and a longer peak from about 22:00 though 02:00, with a\n",
    "#secondary peak at about 04:00. Logins hit their lowest point from 06:00-09:00."
   ]
  },
  {
   "cell_type": "code",
   "execution_count": 33,
   "metadata": {},
   "outputs": [],
   "source": [
    "#Data verified to be clean\n",
    "#Timestamps aggreggated by 15-minute intervals\n",
    "#Data visualized, described\n",
    "#Observed daily cycles"
   ]
  }
 ],
 "metadata": {
  "kernelspec": {
   "display_name": "Python 3",
   "language": "python",
   "name": "python3"
  },
  "language_info": {
   "codemirror_mode": {
    "name": "ipython",
    "version": 3
   },
   "file_extension": ".py",
   "mimetype": "text/x-python",
   "name": "python",
   "nbconvert_exporter": "python",
   "pygments_lexer": "ipython3",
   "version": "3.7.4"
  }
 },
 "nbformat": 4,
 "nbformat_minor": 2
}
